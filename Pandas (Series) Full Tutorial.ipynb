{
 "cells": [
  {
   "cell_type": "code",
   "execution_count": 2,
   "id": "5b9ad7cb-5e69-4fac-8d4f-d8042ac08af7",
   "metadata": {},
   "outputs": [
    {
     "name": "stdout",
     "output_type": "stream",
     "text": [
      "Requirement already satisfied: pandas in c:\\users\\ayush\\anaconda3\\lib\\site-packages (2.1.4)\n",
      "Requirement already satisfied: numpy<2,>=1.23.2 in c:\\users\\ayush\\anaconda3\\lib\\site-packages (from pandas) (1.26.4)\n",
      "Requirement already satisfied: python-dateutil>=2.8.2 in c:\\users\\ayush\\anaconda3\\lib\\site-packages (from pandas) (2.8.2)\n",
      "Requirement already satisfied: pytz>=2020.1 in c:\\users\\ayush\\anaconda3\\lib\\site-packages (from pandas) (2023.3.post1)\n",
      "Requirement already satisfied: tzdata>=2022.1 in c:\\users\\ayush\\anaconda3\\lib\\site-packages (from pandas) (2023.3)\n",
      "Requirement already satisfied: six>=1.5 in c:\\users\\ayush\\anaconda3\\lib\\site-packages (from python-dateutil>=2.8.2->pandas) (1.16.0)\n"
     ]
    }
   ],
   "source": [
    "!pip install pandas"
   ]
  },
  {
   "cell_type": "code",
   "execution_count": 84,
   "id": "02368a06-7179-40ec-ab97-2f747af0e14c",
   "metadata": {},
   "outputs": [],
   "source": [
    "import pandas as pd\n",
    "import numpy as np\n",
    "# series is data 1-D format \n",
    "# dataFrame is data 2-D format "
   ]
  },
  {
   "cell_type": "code",
   "execution_count": 85,
   "id": "d0a0be43-1bba-4d29-82bb-f6ab077d9c95",
   "metadata": {},
   "outputs": [
    {
     "data": {
      "text/plain": [
       "'2.1.4'"
      ]
     },
     "execution_count": 85,
     "metadata": {},
     "output_type": "execute_result"
    }
   ],
   "source": [
    "pd.__version__\n",
    "# checking version"
   ]
  },
  {
   "cell_type": "code",
   "execution_count": 86,
   "id": "11944070-4cf7-4484-a06e-059f09e43785",
   "metadata": {
    "scrolled": true
   },
   "outputs": [
    {
     "name": "stdout",
     "output_type": "stream",
     "text": [
      "[1, 2, 3, 4, 5]\n",
      "0    1\n",
      "1    2\n",
      "2    3\n",
      "3    4\n",
      "4    5\n",
      "dtype: int64\n",
      "0    4\n",
      "1    5\n",
      "2    6\n",
      "3    7\n",
      "4    8\n",
      "dtype: int32\n",
      "<class 'pandas.core.series.Series'>\n"
     ]
    }
   ],
   "source": [
    "# series is a 1-D array with indexes ...more like a hashmap\n",
    "\n",
    "# converting list to series\n",
    "l=[1,2,3,4,5]\n",
    "print(l)\n",
    "s=pd.Series(l)\n",
    "print(s)\n",
    "\n",
    "# converting array to series\n",
    "arr=np.array([4,5,6,7,8])\n",
    "s=pd.Series(arr)\n",
    "print(s)\n",
    "print(type(s))"
   ]
  },
  {
   "cell_type": "code",
   "execution_count": 87,
   "id": "3ede40ec-a53f-4f7c-9924-fdaad837c626",
   "metadata": {},
   "outputs": [
    {
     "data": {
      "text/plain": [
       "8       Ayush\n",
       "17    Maksood\n",
       "5       Ankit\n",
       "9      Harpic\n",
       "dtype: object"
      ]
     },
     "execution_count": 87,
     "metadata": {},
     "output_type": "execute_result"
    }
   ],
   "source": [
    "# by default indexing starts from 0..but we can give by our\n",
    "pd.Series(data=[\"Ayush\",\"Maksood\",\"Ankit\",\"Harpic\"],index=[8,17,5,9])\n"
   ]
  },
  {
   "cell_type": "code",
   "execution_count": 88,
   "id": "2e623c8b-8ad1-405f-af3d-503e75c5c9af",
   "metadata": {},
   "outputs": [
    {
     "data": {
      "text/plain": [
       "Day1    4000\n",
       "Day2    5000\n",
       "Day3    8000\n",
       "Day4    3000\n",
       "dtype: int64"
      ]
     },
     "execution_count": 88,
     "metadata": {},
     "output_type": "execute_result"
    }
   ],
   "source": [
    "# converting dictionary to series\n",
    "d={\"Day1\": 4000,\"Day2\":5000,\"Day3\":8000,\"Day4\":3000}\n",
    "pd.Series(d)"
   ]
  },
  {
   "cell_type": "code",
   "execution_count": 89,
   "id": "d8445569-4cac-46fe-9689-cb4f5e0b417f",
   "metadata": {},
   "outputs": [
    {
     "name": "stdout",
     "output_type": "stream",
     "text": [
      "------------------------------\n",
      "    index  0\n",
      "0       0  2\n",
      "1       0  2\n",
      "2       0  2\n",
      "3       0  2\n",
      "4       0  2\n",
      "5       0  2\n",
      "6       0  2\n",
      "7       0  2\n",
      "8       0  2\n",
      "9       1  3\n",
      "10      1  3\n",
      "11      1  3\n",
      "12      1  3\n",
      "13      1  3\n",
      "14      1  3\n",
      "15      1  3\n",
      "16      1  3\n",
      "17      1  3\n",
      "------------------------------\n",
      "0     2\n",
      "1     2\n",
      "2     2\n",
      "3     2\n",
      "4     2\n",
      "5     2\n",
      "6     2\n",
      "7     2\n",
      "8     2\n",
      "9     3\n",
      "10    3\n",
      "11    3\n",
      "12    3\n",
      "13    3\n",
      "14    3\n",
      "15    3\n",
      "16    3\n",
      "17    3\n",
      "dtype: int64\n",
      "------------------------------\n",
      "0    20\n",
      "0    20\n",
      "1    30\n",
      "1    30\n",
      "1    30\n",
      "1    30\n",
      "1    30\n",
      "dtype: int64\n",
      "------------------------------\n"
     ]
    }
   ],
   "source": [
    "# repeat('n') repeats the series where 'n' is number of times to repeat and returns a dataFrame\n",
    "pd.Series([2,3]).repeat(9)   # repeating a series of [2,3], 9 times....index remains same because of repetitions\n",
    "\n",
    "# reser_index() makes the index accurate and also converts the dataFrame into series \n",
    "s1=pd.Series([2,3]).repeat(9).reset_index()  # in form of DataFrame\n",
    "s2=pd.Series([2,3]).repeat(9).reset_index(drop=True)  # in form of Series\n",
    "print(30*'-')\n",
    "print(s1)\n",
    "print(30*'-')\n",
    "print(s2)\n",
    "print(30*'-')\n",
    "s3=pd.Series([20,30]).repeat([2,5])  # repeats 20 2-times and 30 5-times...in form of dataFrame\n",
    "print(s3)\n",
    "print(30*'-')\n"
   ]
  },
  {
   "cell_type": "code",
   "execution_count": 90,
   "id": "afe951b5-34ef-420e-a6c7-e9645813cbd5",
   "metadata": {},
   "outputs": [
    {
     "name": "stdout",
     "output_type": "stream",
     "text": [
      "1\n",
      "5\n"
     ]
    }
   ],
   "source": [
    "# accessing elements of the series\n",
    "s=pd.Series([1,2,3,4,5])\n",
    "print(s[0])\n",
    "print(s[4])"
   ]
  },
  {
   "cell_type": "code",
   "execution_count": 91,
   "id": "d29e3fe0-2997-4270-b081-6dfd77fd623c",
   "metadata": {},
   "outputs": [
    {
     "name": "stdout",
     "output_type": "stream",
     "text": [
      "0    1\n",
      "1    2\n",
      "2    3\n",
      "3    4\n",
      "4    5\n",
      "dtype: int64\n",
      "------------------------------\n",
      "2    3\n",
      "3    4\n",
      "4    5\n",
      "dtype: int64\n",
      "------------------------------\n",
      "1    2\n",
      "2    3\n",
      "3    4\n",
      "dtype: int64\n"
     ]
    }
   ],
   "source": [
    "# slicing the series\n",
    "s=pd.Series([1,2,3,4,5])\n",
    "print(s[ : ])\n",
    "print(30*'-')\n",
    "print(s[2:5])\n",
    "print(30*'-')\n",
    "print(s[1:-1])"
   ]
  },
  {
   "cell_type": "code",
   "execution_count": 92,
   "id": "8eb4639a-a4c4-47eb-b06a-9e35379cf073",
   "metadata": {},
   "outputs": [
    {
     "name": "stdout",
     "output_type": "stream",
     "text": [
      "min     1\n",
      "max     6\n",
      "sum    21\n",
      "dtype: int64\n"
     ]
    },
    {
     "name": "stderr",
     "output_type": "stream",
     "text": [
      "C:\\Users\\ayush\\AppData\\Local\\Temp\\ipykernel_11988\\2177110826.py:3: FutureWarning: The provided callable <built-in function min> is currently using Series.min. In a future version of pandas, the provided callable will be used directly. To keep current behavior pass the string \"min\" instead.\n",
      "  s1=s.agg([min,max,sum])\n",
      "C:\\Users\\ayush\\AppData\\Local\\Temp\\ipykernel_11988\\2177110826.py:3: FutureWarning: The provided callable <built-in function max> is currently using Series.max. In a future version of pandas, the provided callable will be used directly. To keep current behavior pass the string \"max\" instead.\n",
      "  s1=s.agg([min,max,sum])\n",
      "C:\\Users\\ayush\\AppData\\Local\\Temp\\ipykernel_11988\\2177110826.py:3: FutureWarning: The provided callable <built-in function sum> is currently using Series.sum. In a future version of pandas, the provided callable will be used directly. To keep current behavior pass the string \"sum\" instead.\n",
      "  s1=s.agg([min,max,sum])\n"
     ]
    }
   ],
   "source": [
    "# agg() returns a series of various operations on the current series\n",
    "s=pd.Series([1,2,3,4,5,6])\n",
    "s1=s.agg([min,max,sum])\n",
    "print(s1)"
   ]
  },
  {
   "cell_type": "code",
   "execution_count": 93,
   "id": "f3f94de7-2a2d-4abb-b1a8-9898d27a6657",
   "metadata": {},
   "outputs": [
    {
     "data": {
      "text/plain": [
       "0    1\n",
       "1    2\n",
       "2    3\n",
       "3    4\n",
       "4    5\n",
       "5    6\n",
       "dtype: int64"
      ]
     },
     "execution_count": 93,
     "metadata": {},
     "output_type": "execute_result"
    }
   ],
   "source": [
    "# abs() gives the absolute values of each element of the series\n",
    "s=pd.Series([1,2,3,4,5,6])\n",
    "s.abs()"
   ]
  },
  {
   "cell_type": "code",
   "execution_count": 94,
   "id": "85810abd-bae8-4a44-901b-0527d746bb3f",
   "metadata": {},
   "outputs": [
    {
     "ename": "AttributeError",
     "evalue": "'Series' object has no attribute 'append'",
     "output_type": "error",
     "traceback": [
      "\u001b[1;31m---------------------------------------------------------------------------\u001b[0m",
      "\u001b[1;31mAttributeError\u001b[0m                            Traceback (most recent call last)",
      "\u001b[1;32m~\\AppData\\Local\\Temp\\ipykernel_11988\\3932645656.py\u001b[0m in \u001b[0;36m?\u001b[1;34m()\u001b[0m\n\u001b[0;32m      1\u001b[0m \u001b[1;31m# appending 2 series\u001b[0m\u001b[1;33m\u001b[0m\u001b[1;33m\u001b[0m\u001b[0m\n\u001b[0;32m      2\u001b[0m \u001b[0ms1\u001b[0m\u001b[1;33m=\u001b[0m\u001b[0mpd\u001b[0m\u001b[1;33m.\u001b[0m\u001b[0mSeries\u001b[0m\u001b[1;33m(\u001b[0m\u001b[1;33m[\u001b[0m\u001b[1;36m1\u001b[0m\u001b[1;33m,\u001b[0m\u001b[1;36m2\u001b[0m\u001b[1;33m,\u001b[0m\u001b[1;36m3\u001b[0m\u001b[1;33m,\u001b[0m\u001b[1;36m4\u001b[0m\u001b[1;33m,\u001b[0m\u001b[1;36m5\u001b[0m\u001b[1;33m,\u001b[0m\u001b[1;36m6\u001b[0m\u001b[1;33m]\u001b[0m\u001b[1;33m)\u001b[0m\u001b[1;33m\u001b[0m\u001b[1;33m\u001b[0m\u001b[0m\n\u001b[0;32m      3\u001b[0m \u001b[0ms2\u001b[0m\u001b[1;33m=\u001b[0m\u001b[0mpd\u001b[0m\u001b[1;33m.\u001b[0m\u001b[0mSeries\u001b[0m\u001b[1;33m(\u001b[0m\u001b[1;33m[\u001b[0m\u001b[1;33m-\u001b[0m\u001b[1;36m1\u001b[0m\u001b[1;33m,\u001b[0m\u001b[1;33m-\u001b[0m\u001b[1;36m2\u001b[0m\u001b[1;33m,\u001b[0m\u001b[1;33m-\u001b[0m\u001b[1;36m3\u001b[0m\u001b[1;33m,\u001b[0m\u001b[1;33m-\u001b[0m\u001b[1;36m4\u001b[0m\u001b[1;33m,\u001b[0m\u001b[1;33m-\u001b[0m\u001b[1;36m5\u001b[0m\u001b[1;33m,\u001b[0m\u001b[1;33m-\u001b[0m\u001b[1;36m6\u001b[0m\u001b[1;33m]\u001b[0m\u001b[1;33m)\u001b[0m\u001b[1;33m\u001b[0m\u001b[1;33m\u001b[0m\u001b[0m\n\u001b[1;32m----> 4\u001b[1;33m \u001b[0ms3\u001b[0m\u001b[1;33m=\u001b[0m\u001b[0ms1\u001b[0m\u001b[1;33m.\u001b[0m\u001b[0mappend\u001b[0m\u001b[1;33m(\u001b[0m\u001b[0ms2\u001b[0m\u001b[1;33m)\u001b[0m   \u001b[1;31m# appends s2 after s1\u001b[0m\u001b[1;33m\u001b[0m\u001b[1;33m\u001b[0m\u001b[0m\n\u001b[0m\u001b[0;32m      5\u001b[0m \u001b[0ms2\u001b[0m\u001b[1;33m.\u001b[0m\u001b[0mappend\u001b[0m\u001b[1;33m(\u001b[0m\u001b[0ms1\u001b[0m\u001b[1;33m)\u001b[0m   \u001b[1;31m# appends s1 after s2\u001b[0m\u001b[1;33m\u001b[0m\u001b[1;33m\u001b[0m\u001b[0m\n\u001b[0;32m      6\u001b[0m \u001b[1;31m# appending makes the indexes wrong\u001b[0m\u001b[1;33m\u001b[0m\u001b[1;33m\u001b[0m\u001b[0m\n\u001b[0;32m      7\u001b[0m \u001b[0ms2\u001b[0m\u001b[1;33m.\u001b[0m\u001b[0mreset_index\u001b[0m\u001b[1;33m(\u001b[0m\u001b[0mdrop\u001b[0m\u001b[1;33m=\u001b[0m\u001b[1;32mTrue\u001b[0m\u001b[1;33m)\u001b[0m   \u001b[1;31m# correcting the indexes\u001b[0m\u001b[1;33m\u001b[0m\u001b[1;33m\u001b[0m\u001b[0m\n",
      "\u001b[1;32m~\\anaconda3\\Lib\\site-packages\\pandas\\core\\generic.py\u001b[0m in \u001b[0;36m?\u001b[1;34m(self, name)\u001b[0m\n\u001b[0;32m   6200\u001b[0m             \u001b[1;32mand\u001b[0m \u001b[0mname\u001b[0m \u001b[1;32mnot\u001b[0m \u001b[1;32min\u001b[0m \u001b[0mself\u001b[0m\u001b[1;33m.\u001b[0m\u001b[0m_accessors\u001b[0m\u001b[1;33m\u001b[0m\u001b[1;33m\u001b[0m\u001b[0m\n\u001b[0;32m   6201\u001b[0m             \u001b[1;32mand\u001b[0m \u001b[0mself\u001b[0m\u001b[1;33m.\u001b[0m\u001b[0m_info_axis\u001b[0m\u001b[1;33m.\u001b[0m\u001b[0m_can_hold_identifiers_and_holds_name\u001b[0m\u001b[1;33m(\u001b[0m\u001b[0mname\u001b[0m\u001b[1;33m)\u001b[0m\u001b[1;33m\u001b[0m\u001b[1;33m\u001b[0m\u001b[0m\n\u001b[0;32m   6202\u001b[0m         ):\n\u001b[0;32m   6203\u001b[0m             \u001b[1;32mreturn\u001b[0m \u001b[0mself\u001b[0m\u001b[1;33m[\u001b[0m\u001b[0mname\u001b[0m\u001b[1;33m]\u001b[0m\u001b[1;33m\u001b[0m\u001b[1;33m\u001b[0m\u001b[0m\n\u001b[1;32m-> 6204\u001b[1;33m         \u001b[1;32mreturn\u001b[0m \u001b[0mobject\u001b[0m\u001b[1;33m.\u001b[0m\u001b[0m__getattribute__\u001b[0m\u001b[1;33m(\u001b[0m\u001b[0mself\u001b[0m\u001b[1;33m,\u001b[0m \u001b[0mname\u001b[0m\u001b[1;33m)\u001b[0m\u001b[1;33m\u001b[0m\u001b[1;33m\u001b[0m\u001b[0m\n\u001b[0m",
      "\u001b[1;31mAttributeError\u001b[0m: 'Series' object has no attribute 'append'"
     ]
    }
   ],
   "source": [
    "# appending 2 series\n",
    "s1=pd.Series([1,2,3,4,5,6])\n",
    "s2=pd.Series([-1,-2,-3,-4,-5,-6])\n",
    "s3=s1.append(s2)   # appends s2 after s1\n",
    "s2.append(s1)   # appends s1 after s2\n",
    "# appending makes the indexes wrong\n",
    "s2.reset_index(drop=True)   # correcting the indexes"
   ]
  },
  {
   "cell_type": "code",
   "execution_count": null,
   "id": "ee8f51c0-f349-4029-a8e2-ee773154598f",
   "metadata": {},
   "outputs": [],
   "source": [
    "# astype() is used to change the data type of the series\n",
    "s=pd.Series([1,2,3,4,5])\n",
    "s.astype('float')"
   ]
  },
  {
   "cell_type": "code",
   "execution_count": null,
   "id": "ff960a5f-e275-495f-8f7e-20abeb31944c",
   "metadata": {},
   "outputs": [],
   "source": [
    "# between(a,b) returns all the values bw 'a' and 'b' in boolean form\n",
    "s=pd.Series([12,2,3,4,50,20,31])\n",
    "s.between(10,40)"
   ]
  },
  {
   "cell_type": "code",
   "execution_count": 95,
   "id": "f91075f8-8490-4519-be24-907f729bb75c",
   "metadata": {},
   "outputs": [
    {
     "name": "stdout",
     "output_type": "stream",
     "text": [
      "0    Ayush Budhlakoti\n",
      "1     Deepanshu Suyal\n",
      "2         Ayush Joshi\n",
      "3        Ankit Pandey\n",
      "dtype: object\n",
      "----------------------------------------\n",
      "0    AYUSH BUDHLAKOTI\n",
      "1     DEEPANSHU SUYAL\n",
      "2         AYUSH JOSHI\n",
      "3        ANKIT PANDEY\n",
      "dtype: object\n",
      "----------------------------------------\n",
      "0    ayush budhlakoti\n",
      "1     deepanshu suyal\n",
      "2         ayush joshi\n",
      "3        ankit pandey\n",
      "dtype: object\n",
      "----------------------------------------\n",
      "Ayush Budhlakoti 16\n",
      "Deepanshu Suyal 15\n",
      "Ayush Joshi 11\n",
      "Ankit Pandey 12\n",
      "----------------------------------------\n",
      "0    Ayush Budhlakoti\n",
      "1     Deepanshu Suyal\n",
      "2         Ayush Joshi\n",
      "3        Ankit Pandey\n",
      "dtype: object\n",
      "----------------------------------------\n",
      "Ayush Budhlakoti\n"
     ]
    }
   ],
   "source": [
    "# string functions on series\n",
    "s=pd.Series([\"Ayush Budhlakoti\",\"Deepanshu Suyal\",\"Ayush Joshi\",\"Ankit Pandey\"])\n",
    "print(s)\n",
    "print(40*'-')\n",
    "print(s.str.upper())\n",
    "print(40*'-')\n",
    "print(s.str.lower())\n",
    "print(40*'-')\n",
    "for i in s:\n",
    "    print(i,len(i))\n",
    "print(40*'-')\n",
    "print(s.str.strip())\n",
    "print(40*'-')\n",
    "print(s.str.strip()[0])"
   ]
  },
  {
   "cell_type": "code",
   "execution_count": 96,
   "id": "ca5e2507-00ec-4ca9-af6c-b2c9c3fb0bd4",
   "metadata": {},
   "outputs": [
    {
     "data": {
      "text/plain": [
       "0     True\n",
       "1     True\n",
       "2    False\n",
       "3     True\n",
       "dtype: bool"
      ]
     },
     "execution_count": 96,
     "metadata": {},
     "output_type": "execute_result"
    }
   ],
   "source": [
    "# str.contains('ch') checks that the character is present in the series or not and returns a bool\n",
    "s=pd.Series([\"Ayush Budhlakoti\",\"Deepanshu Suyal\",\"Ayush Joshi\",\"Ankit Pandey\"])\n",
    "s.str.contains('a')"
   ]
  },
  {
   "cell_type": "code",
   "execution_count": 97,
   "id": "f618bcfa-3c39-4a55-b7d3-759214c7435d",
   "metadata": {},
   "outputs": [
    {
     "name": "stdout",
     "output_type": "stream",
     "text": [
      "0    Byush Budhlakoti\n",
      "1     Deepanshu Suyal\n",
      "2         Byush Joshi\n",
      "3        Bnkit Pandey\n",
      "dtype: object\n"
     ]
    },
    {
     "data": {
      "text/plain": [
       "0    yush Budhlakoti\n",
       "1    Deepanshu Suyal\n",
       "2         yush Joshi\n",
       "3        nkit Pandey\n",
       "dtype: object"
      ]
     },
     "execution_count": 97,
     "metadata": {},
     "output_type": "execute_result"
    }
   ],
   "source": [
    "# str.replace('ch1','ch2')....replaces ch1 with ch2\n",
    "s=pd.Series([\"Ayush Budhlakoti\",\"Deepanshu Suyal\",\"Ayush Joshi\",\"Ankit Pandey\"])\n",
    "print(s.str.replace('A','B'))\n",
    "s.str.replace('A','')    # removes the character"
   ]
  },
  {
   "cell_type": "code",
   "execution_count": 98,
   "id": "b4c4fa1d-a1f3-434e-9b1e-1b4f094d33e2",
   "metadata": {},
   "outputs": [
    {
     "data": {
      "text/plain": [
       "0    1\n",
       "1    1\n",
       "2    2\n",
       "3    0\n",
       "dtype: int64"
      ]
     },
     "execution_count": 98,
     "metadata": {},
     "output_type": "execute_result"
    }
   ],
   "source": [
    "# str.count('ch1')....counts the characer in the series\n",
    "s=pd.Series([\"Ayush Budhlakoti\",\"Deepanshu Suyal\",\"Ayush Joshi\",\"Ankit Pandey\"])\n",
    "s.str.count('sh',)"
   ]
  },
  {
   "cell_type": "code",
   "execution_count": 99,
   "id": "38f2d32d-cf6d-4899-ac29-ff4e9ed46803",
   "metadata": {},
   "outputs": [
    {
     "name": "stdout",
     "output_type": "stream",
     "text": [
      "0     True\n",
      "1    False\n",
      "2     True\n",
      "3    False\n",
      "dtype: bool\n",
      "------------------------------\n",
      "0    False\n",
      "1    False\n",
      "2    False\n",
      "3    False\n",
      "dtype: bool\n",
      "------------------------------\n",
      "0    0\n",
      "1   -1\n",
      "2    0\n",
      "3   -1\n",
      "dtype: int64\n"
     ]
    }
   ],
   "source": [
    "# other string functions\n",
    "s=pd.Series([\"Ayush Budhlakoti\",\"Deepanshu Suyal\",\"Ayush Joshi\",\"Ankit Pandey\"])\n",
    "print(s.str.endswith('i'))\n",
    "print(30*'-')\n",
    "print(s.str.startswith('i'))\n",
    "print(30*'-')\n",
    "print(s.str.find('Ayush'))\n"
   ]
  },
  {
   "cell_type": "code",
   "execution_count": 101,
   "id": "8fee01e5-2b4c-40d4-a6fd-a0a634f858fd",
   "metadata": {},
   "outputs": [
    {
     "name": "stdout",
     "output_type": "stream",
     "text": [
      "[1, 2, 3, 4, 5, 6]\n",
      "<class 'list'>\n"
     ]
    }
   ],
   "source": [
    "# converting series to a list\n",
    "s=pd.Series([1,2,3,4,5,6])\n",
    "l=s.to_list()\n",
    "print(l)\n",
    "print(type(l))"
   ]
  },
  {
   "cell_type": "code",
   "execution_count": null,
   "id": "30686193-4cb7-4d89-ad6c-e0363d933b65",
   "metadata": {},
   "outputs": [],
   "source": []
  }
 ],
 "metadata": {
  "kernelspec": {
   "display_name": "Python 3 (ipykernel)",
   "language": "python",
   "name": "python3"
  },
  "language_info": {
   "codemirror_mode": {
    "name": "ipython",
    "version": 3
   },
   "file_extension": ".py",
   "mimetype": "text/x-python",
   "name": "python",
   "nbconvert_exporter": "python",
   "pygments_lexer": "ipython3",
   "version": "3.11.7"
  }
 },
 "nbformat": 4,
 "nbformat_minor": 5
}
