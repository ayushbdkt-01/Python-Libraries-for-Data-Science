{
 "cells": [
  {
   "cell_type": "code",
   "execution_count": 1,
   "id": "30d86efc-3e37-41c6-848e-cbb0df6de6ca",
   "metadata": {},
   "outputs": [],
   "source": [
    "import numpy as np"
   ]
  },
  {
   "cell_type": "code",
   "execution_count": 2,
   "id": "9bc0ce8b-ccc9-444a-8fbe-6dbede0d48a9",
   "metadata": {},
   "outputs": [
    {
     "name": "stdout",
     "output_type": "stream",
     "text": [
      "[1 2 3 4 5]\n",
      "<class 'numpy.ndarray'>\n"
     ]
    }
   ],
   "source": [
    "# converting list to numpy array\n",
    "l=[1,2,3,4,5]\n",
    "arr1=np.array(l)\n",
    "print(arr1)\n",
    "print(type(arr1))"
   ]
  },
  {
   "cell_type": "code",
   "execution_count": 10,
   "id": "e5eb6d08-99de-4dab-a8c3-272c08b890ae",
   "metadata": {},
   "outputs": [
    {
     "name": "stdout",
     "output_type": "stream",
     "text": [
      "<class 'numpy.ndarray'>\n",
      "[1 2 3 4 5]\n",
      "<class 'numpy.ndarray'>\n",
      "[[1 2 3 4 5]]\n"
     ]
    }
   ],
   "source": [
    "# ndmin= n-dimensional 1-D Array\n",
    "arr1=np.array(l,ndmin=1)\n",
    "print(type(arr1))\n",
    "print(arr1)\n",
    "\n",
    "# ndmin= n-dimensional 2-D Array\n",
    "arr2=np.array(l,ndmin=2)\n",
    "print(type(arr2))\n",
    "print(arr2)"
   ]
  },
  {
   "cell_type": "code",
   "execution_count": 11,
   "id": "e0893eac-0e5d-4f1c-9bf9-464478a3b0ff",
   "metadata": {},
   "outputs": [
    {
     "name": "stdout",
     "output_type": "stream",
     "text": [
      "[1 2 3 4 5 6 7 8 9]\n",
      "[1 3 5 7 9]\n"
     ]
    }
   ],
   "source": [
    "# creates an array from 1 to 9 with a gap of '1'\n",
    "arr=np.arange(1,10,1)\n",
    "print(arr)\n",
    "\n",
    "# creates an array from 1 to 9 with a gap of '2'\n",
    "arr=np.arange(1,10,2)\n",
    "print(arr)"
   ]
  },
  {
   "cell_type": "code",
   "execution_count": 13,
   "id": "05fea3e4-8287-43cf-9d8e-bc527f1a48e2",
   "metadata": {},
   "outputs": [
    {
     "name": "stdout",
     "output_type": "stream",
     "text": [
      "[[1 2 3]\n",
      " [4 5 6]\n",
      " [7 8 9]]\n"
     ]
    }
   ],
   "source": [
    "# 'arr' is a 2-D Array\n",
    "arr=np.array([[1,2,3],[4,5,6],[7,8,9]])\n",
    "print(arr)"
   ]
  },
  {
   "cell_type": "code",
   "execution_count": 16,
   "id": "9575c3bc-8578-4695-ab23-0dbdf34c3606",
   "metadata": {},
   "outputs": [
    {
     "name": "stdout",
     "output_type": "stream",
     "text": [
      "7\n",
      "12\n",
      "3\n",
      "4\n"
     ]
    }
   ],
   "source": [
    "# arr1 is a 1-D array\n",
    "arr1=np.array([1,2,3,4,5,6,7])\n",
    "print(arr1.size)\n",
    "\n",
    "# arr2 is a 2-D array\n",
    "arr2=np.array([[1,2,3,4],[2,3,4,5],[5,6,7,8]])\n",
    "print(arr2.size)\n",
    "print(np.size(arr2,0))    # '0' for row size\n",
    "print(np.size(arr2,1))    # '1' for column size"
   ]
  },
  {
   "cell_type": "code",
   "execution_count": 19,
   "id": "f595851b-8721-4602-b9c8-6a04fb0e33e0",
   "metadata": {},
   "outputs": [
    {
     "name": "stdout",
     "output_type": "stream",
     "text": [
      "int32\n",
      "float64\n"
     ]
    }
   ],
   "source": [
    "# Data Type of the array\n",
    "arr1=np.array([1,2,3,4,5,6,7])\n",
    "print(arr1.dtype)\n",
    "\n",
    "arr2=np.array([1.2,3.2,4.3,2.3])\n",
    "print(arr2.dtype)"
   ]
  },
  {
   "cell_type": "code",
   "execution_count": 23,
   "id": "0f240701-eb5b-4bd1-89ba-e275e6ccc9e7",
   "metadata": {},
   "outputs": [
    {
     "name": "stdout",
     "output_type": "stream",
     "text": [
      "1\n",
      "2\n"
     ]
    }
   ],
   "source": [
    "# Dimensions of the array\n",
    "arr1=np.array([1,2,3,4,5,6,7])\n",
    "print(arr1.ndim)\n",
    "\n",
    "arr2=np.array([[1,2,3,4],[2,3,4,5],[5,6,7,8]])\n",
    "print(arr2.ndim)"
   ]
  },
  {
   "cell_type": "code",
   "execution_count": 25,
   "id": "490f56e6-cd20-4692-88e1-92da5fc33e04",
   "metadata": {},
   "outputs": [
    {
     "name": "stdout",
     "output_type": "stream",
     "text": [
      "Printing 2-D array: \n",
      "[[0. 0. 0. 0.]\n",
      " [0. 0. 0. 0.]\n",
      " [0. 0. 0. 0.]]\n",
      "Printing 1-D array: \n",
      "[0. 0. 0. 0.]\n"
     ]
    }
   ],
   "source": [
    "# creating arrays with all zeros\n",
    "\n",
    "arr1=np.zeros((3,4))     # 2-D\n",
    "print(\"Printing 2-D array: \")\n",
    "print(arr1)\n",
    "\n",
    "print(\"Printing 1-D array: \")\n",
    "arr2=np.zeros(4)       # 1-D\n",
    "print(arr2)"
   ]
  },
  {
   "cell_type": "code",
   "execution_count": 26,
   "id": "c9cd4f28-078e-44d6-9a18-a13f9ef0050c",
   "metadata": {},
   "outputs": [
    {
     "name": "stdout",
     "output_type": "stream",
     "text": [
      "Printing 2-D array: \n",
      "[[1. 1. 1. 1.]\n",
      " [1. 1. 1. 1.]\n",
      " [1. 1. 1. 1.]]\n",
      "Printing 1-D array: \n",
      "[1. 1. 1. 1.]\n"
     ]
    }
   ],
   "source": [
    "# creating arrays with all ones\n",
    "\n",
    "arr1=np.ones((3,4))     # 2-D\n",
    "print(\"Printing 2-D array: \")\n",
    "print(arr1)\n",
    "\n",
    "print(\"Printing 1-D array: \")\n",
    "arr2=np.ones(4)       # 1-D\n",
    "print(arr2)"
   ]
  },
  {
   "cell_type": "code",
   "execution_count": 28,
   "id": "b49b4f68-5ebf-4ea7-b1c4-1cf72bc5db5d",
   "metadata": {},
   "outputs": [
    {
     "name": "stdout",
     "output_type": "stream",
     "text": [
      "[[1 0 0 0]\n",
      " [0 1 0 0]\n",
      " [0 0 1 0]\n",
      " [0 0 0 1]]\n",
      "[[1. 0. 0. 0. 0. 0.]\n",
      " [0. 1. 0. 0. 0. 0.]\n",
      " [0. 0. 1. 0. 0. 0.]\n",
      " [0. 0. 0. 1. 0. 0.]\n",
      " [0. 0. 0. 0. 1. 0.]\n",
      " [0. 0. 0. 0. 0. 1.]]\n"
     ]
    }
   ],
   "source": [
    "# eye() is used to create Identity matrix\n",
    "arr1=np.eye(4,dtype=int)\n",
    "print(arr1)\n",
    "\n",
    "arr2=np.eye(6,dtype=float)\n",
    "print(arr2)"
   ]
  },
  {
   "cell_type": "code",
   "execution_count": 58,
   "id": "ad691939-026e-4575-8199-f25a4b7d125f",
   "metadata": {},
   "outputs": [
    {
     "name": "stdout",
     "output_type": "stream",
     "text": [
      "[[0.29488109 0.24665191 0.34342049 0.00975786]\n",
      " [0.22595107 0.44140059 0.76422454 0.19697829]\n",
      " [0.06507297 0.64522439 0.96562745 0.80641561]]\n"
     ]
    }
   ],
   "source": [
    "# empty() returns an empty array with all elements as '0'\n",
    "arr2=np.empty(shape=(3,4))\n",
    "print(arr2)"
   ]
  },
  {
   "cell_type": "code",
   "execution_count": 43,
   "id": "a4819fef-e7b7-4f1e-9840-3338c0420919",
   "metadata": {},
   "outputs": [
    {
     "name": "stdout",
     "output_type": "stream",
     "text": [
      "[0.25388293 0.61422633 0.09741231 0.89845886]\n",
      "[[0.29488109 0.24665191 0.34342049 0.00975786]\n",
      " [0.22595107 0.44140059 0.76422454 0.19697829]\n",
      " [0.06507297 0.64522439 0.96562745 0.80641561]]\n"
     ]
    }
   ],
   "source": [
    "# random.rand() is used to create an Array with random numbers between 0.0-1.0\n",
    "arr1=np.random.rand(4)\n",
    "print(arr1)\n",
    "\n",
    "arr2=np.random.rand(3,4)\n",
    "print(arr2)"
   ]
  },
  {
   "cell_type": "code",
   "execution_count": 47,
   "id": "0fa1c650-4742-4491-be5a-f9565fbf616b",
   "metadata": {},
   "outputs": [
    {
     "name": "stdout",
     "output_type": "stream",
     "text": [
      "[3 8 8 6 7 3 6 5 5 3]\n"
     ]
    }
   ],
   "source": [
    "# random.randint() creates an array of 'size' with random values between 'low' and 'high'\n",
    "arr1=np.random.randint(low=1,high=11,size=10)\n",
    "print(arr1)\n"
   ]
  },
  {
   "cell_type": "code",
   "execution_count": 49,
   "id": "9bf576a0-2274-4b3b-9848-d209e7f2ccec",
   "metadata": {},
   "outputs": [
    {
     "name": "stdout",
     "output_type": "stream",
     "text": [
      "[ 1.81821909 -0.56106847  1.42061076 -0.91497304  1.4029422   1.25904714\n",
      " -1.14145944 -0.82745011  0.02899114  1.52209522 -0.9235742  -0.11325818\n",
      " -0.01720296 -0.18604754  0.65264667]\n"
     ]
    }
   ],
   "source": [
    "# random.randn() creates an array of '15' with random values under Standard Normal Distribution\n",
    "arr1=np.random.randn(15)\n",
    "print(arr1)"
   ]
  },
  {
   "cell_type": "code",
   "execution_count": 56,
   "id": "7adcd8b1-76f5-4c92-8d25-32566f01fb50",
   "metadata": {},
   "outputs": [
    {
     "name": "stdout",
     "output_type": "stream",
     "text": [
      "Printing initial array: \n",
      "[[ 5  7  4 10]\n",
      " [10  6  6  3]\n",
      " [ 6  1  1  2]]\n",
      "Printing array after reshaping: \n",
      "[[ 4  9  4]\n",
      " [ 3  9  6]\n",
      " [ 5  6  3]\n",
      " [ 6  2 10]]\n"
     ]
    }
   ],
   "source": [
    "# firstly we create an array of random integers of size(3*4), then reshaped it to size(4*3)\n",
    "# note that the number of elements in the initial and final array should be same\n",
    "\n",
    "arr1=np.random.randint(1,11,(3,4))\n",
    "print(\"Printing initial array: \")\n",
    "print(arr1)\n",
    "\n",
    "arr2=arr.reshape(4,3)\n",
    "print(\"Printing array after reshaping: \")\n",
    "print(arr2)"
   ]
  },
  {
   "cell_type": "code",
   "execution_count": 66,
   "id": "f554f949-ea3c-49d7-93fe-784b7c5f74fe",
   "metadata": {},
   "outputs": [
    {
     "name": "stdout",
     "output_type": "stream",
     "text": [
      "[ 1.    3.25  5.5   7.75 10.  ]\n"
     ]
    }
   ],
   "source": [
    "# linspace() creates an array of '14' size from '1' to '10' with equal intervals\n",
    "arr=np.linspace(1,10,5)\n",
    "print(arr)"
   ]
  },
  {
   "cell_type": "code",
   "execution_count": 68,
   "id": "19eddb14-d2cc-4577-8ec4-3d78c2e2e09b",
   "metadata": {},
   "outputs": [
    {
     "name": "stdout",
     "output_type": "stream",
     "text": [
      "Printing original array: \n",
      "[[1 2 3 4]\n",
      " [2 3 4 5]\n",
      " [5 6 7 8]]\n",
      "Printing flattened array: \n",
      "[1 2 3 4 2 3 4 5 5 6 7 8]\n"
     ]
    }
   ],
   "source": [
    "# flatten() convert any 'n' dimensional array to a 1-D array\n",
    "arr1=np.array([[1,2,3,4],[2,3,4,5],[5,6,7,8]])\n",
    "print(\"Printing original array: \")\n",
    "print(arr1)\n",
    "arr2=arr1.flatten()\n",
    "print(\"Printing flattened array: \")\n",
    "print(arr2)"
   ]
  },
  {
   "cell_type": "code",
   "execution_count": 70,
   "id": "d7c96643-6661-49bc-bf4e-1f419ab0f09c",
   "metadata": {},
   "outputs": [
    {
     "name": "stdout",
     "output_type": "stream",
     "text": [
      "[  100.           166.81005372   278.25594022   464.15888336\n",
      "   774.26368268  1291.54966501  2154.43469003  3593.8136638\n",
      "  5994.84250319 10000.        ]\n",
      "[ 4.          4.66611616  5.44316     6.34960421  7.4069977   8.64047791\n",
      " 10.0793684  11.75787594 13.71590373 16.        ]\n"
     ]
    }
   ],
   "source": [
    "# logspace() creates an array of '10' size from 'log(2)' to 'log(4)' with equal intervals (Default base is '10')\n",
    "arr1=np.logspace(2,4,10)\n",
    "print(arr1)\n",
    "\n",
    "# creates an array of '10' size from 'log(2) base 2' to 'log(4) base 2' with equal intervals\n",
    "arr2=np.logspace(2,4,10,base=2)\n",
    "print(arr2)"
   ]
  },
  {
   "cell_type": "code",
   "execution_count": 75,
   "id": "ee13081a-1513-493f-a527-a8f00d12d8ba",
   "metadata": {},
   "outputs": [
    {
     "name": "stdout",
     "output_type": "stream",
     "text": [
      "[9 3 7 2 3 5 6 6 4 2]\n",
      "[19  2 13 17 10  9 10  5  8 10]\n",
      "[9 3 7 2 3 5 6 6 4 2] 3059097219984\n",
      "[9 3 7 2 3 5 6 6 4 2] 3059097219984\n",
      "[9 3 7 2 3 5 6 6 4 2] 3059097219984\n",
      "[9 3 7 2 3 5 6 6 4 2] 3059087929584\n"
     ]
    }
   ],
   "source": [
    "# copying arrayd\n",
    "arr1=np.random.randint(1,10,10)\n",
    "print(arr1)\n",
    "arr2=np.random.randint(1,20,10)\n",
    "print(arr2)\n",
    "\n",
    "# Simple copying ... same refrence to memory\n",
    "# same i'd means both arrays point to the same memory\n",
    "arr2=arr1\n",
    "print(arr1,id(arr1))\n",
    "print(arr2,id(arr2))\n",
    "# using copy() function\n",
    "# creates 2 different arrays in different memory locations... hence i'd is alsk different\n",
    "arr2=np.copy(arr1)\n",
    "print(arr1,id(arr1))\n",
    "print(arr2,id(arr2))"
   ]
  },
  {
   "cell_type": "code",
   "execution_count": 88,
   "id": "bb7e90e1-1355-4c39-8bae-b1a5b49754bb",
   "metadata": {},
   "outputs": [
    {
     "name": "stdout",
     "output_type": "stream",
     "text": [
      "------------------------------\n",
      "[3 6 7 5 6 1 6 1 5 4]\n",
      "------------------------------\n",
      "Maximum Element:  7\n",
      "Minimum Element:  1\n",
      "Sum of all Element:  44\n",
      "------------------------------\n",
      "[[3 4 8 8]\n",
      " [3 5 3 9]\n",
      " [9 9 6 7]]\n",
      "------------------------------\n",
      "Maximum Element:  9\n",
      "Minimum Element:  3\n",
      "Sum of all Element:  74\n",
      "------------------------------\n",
      "Maximum Element ColumnWise:  [9 9 8 9]\n",
      "Minimum Element ColumnWise:  [3 4 3 7]\n",
      "Sum of all Element ColumnWise:  [15 18 17 24]\n",
      "------------------------------\n",
      "Maximum Element RowWise:  [8 9 9]\n",
      "Minimum Element RowWise:  [3 3 6]\n",
      "Sum of all Element RowWise:  [23 20 31]\n",
      "------------------------------\n"
     ]
    }
   ],
   "source": [
    "# 1-D Array\n",
    "print('-'*30)\n",
    "arr1=np.random.randint(1,10,10)\n",
    "print(arr1)\n",
    "print('-'*30)\n",
    "print(\"Maximum Element: \",arr1.max())\n",
    "print(\"Minimum Element: \",arr1.min())\n",
    "print(\"Sum of all Element: \",arr1.sum())\n",
    "print('-'*30)\n",
    "\n",
    "# 2-D Array... axis=0 for columns .....axis=1 for rows\n",
    "arr2=np.random.randint(1,10,(3,4))\n",
    "print(arr2)\n",
    "print('-'*30)\n",
    "print(\"Maximum Element: \",arr2.max())\n",
    "print(\"Minimum Element: \",arr2.min())\n",
    "print(\"Sum of all Element: \",arr2.sum())\n",
    "print('-'*30)\n",
    "print(\"Maximum Element ColumnWise: \",arr2.max(axis=0))\n",
    "print(\"Minimum Element ColumnWise: \",arr2.min(axis=0))\n",
    "print(\"Sum of all Element ColumnWise: \",arr2.sum(axis=0))\n",
    "print('-'*30)\n",
    "print(\"Maximum Element RowWise: \",arr2.max(axis=1))\n",
    "print(\"Minimum Element RowWise: \",arr2.min(axis=1))\n",
    "print(\"Sum of all Element RowWise: \",arr2.sum(axis=1))\n",
    "print('-'*30)"
   ]
  },
  {
   "cell_type": "code",
   "execution_count": 94,
   "id": "db02f729-35df-440b-9038-44223eb52518",
   "metadata": {},
   "outputs": [
    {
     "name": "stdout",
     "output_type": "stream",
     "text": [
      "[8 6 2 9 8 9 3 8 8 8]\n"
     ]
    }
   ],
   "source": [
    "# seed(valuw) .....generates pseudoRandom numbers which are not purely random (can be guessed)\n",
    "# it generates same random integer array umtil the 'value' inside the seed() remains same\n",
    "# seed() is very very important\n",
    "np.random.seed(4)\n",
    "arr=np.random.randint(1,10,10)\n",
    "print(arr)"
   ]
  },
  {
   "cell_type": "code",
   "execution_count": 100,
   "id": "dd5d6afc-d956-4e64-bce1-714babed2e27",
   "metadata": {},
   "outputs": [
    {
     "name": "stdout",
     "output_type": "stream",
     "text": [
      "Printing unsorted array: \n",
      "[9 8 6 8 7 9 5 5 1 8]\n",
      "Printing sorted array: \n",
      "[1 5 5 6 7 8 8 8 9 9]\n",
      "----------------------------------------\n",
      "Printing unsorted array: \n",
      "[[3 2 9 9]\n",
      " [2 4 2 4]\n",
      " [7 8 5 1]]\n",
      "Printing sorted array: \n",
      "[[2 3 9 9]\n",
      " [2 2 4 4]\n",
      " [1 5 7 8]]\n",
      "Printing sorted array rowWise: \n",
      "[[2 3 9 9]\n",
      " [2 2 4 4]\n",
      " [1 5 7 8]]\n",
      "Printing sorted array columnWise: \n",
      "[[2 2 2 1]\n",
      " [3 4 5 4]\n",
      " [7 8 9 9]]\n"
     ]
    }
   ],
   "source": [
    "arr1=np.random.randint(1,10,10)\n",
    "print(\"Printing unsorted array: \")\n",
    "print(arr1)\n",
    "print(\"Printing sorted array: \")\n",
    "print(np.sort(arr1))\n",
    "print(40*'-')\n",
    "\n",
    "arr2=np.random.randint(1,10,(3,4))\n",
    "print(\"Printing unsorted array: \")\n",
    "print(arr2)\n",
    "print(\"Printing sorted array: \")\n",
    "print(np.sort(arr2))\n",
    "print(\"Printing sorted array rowWise: \")\n",
    "print(np.sort(arr2,axis=1))\n",
    "print(\"Printing sorted array columnWise: \")\n",
    "print(np.sort(arr2,axis=0,kind=\"mergesort\"))"
   ]
  },
  {
   "cell_type": "code",
   "execution_count": 108,
   "id": "68beed52-2138-466d-a111-e890fa902dbf",
   "metadata": {},
   "outputs": [
    {
     "name": "stdout",
     "output_type": "stream",
     "text": [
      "----------------------------------------\n",
      "[[8 6 2]\n",
      " [9 8 9]\n",
      " [3 8 8]]\n",
      "----------------------------------------\n",
      "[[ 9  7  3]\n",
      " [10  9 10]\n",
      " [ 4  9  9]]\n",
      "----------------------------------------\n",
      "[[6 4 0]\n",
      " [7 6 7]\n",
      " [1 6 6]]\n",
      "----------------------------------------\n",
      "[[24 18  6]\n",
      " [27 24 27]\n",
      " [ 9 24 24]]\n",
      "----------------------------------------\n",
      "[[4.  3.  1. ]\n",
      " [4.5 4.  4.5]\n",
      " [1.5 4.  4. ]]\n",
      "----------------------------------------\n",
      "[[4 3 1]\n",
      " [4 4 4]\n",
      " [1 4 4]]\n",
      "----------------------------------------\n",
      "[[64 36  4]\n",
      " [81 64 81]\n",
      " [ 9 64 64]]\n",
      "----------------------------------------\n"
     ]
    }
   ],
   "source": [
    "# Mathematical operations on arrays\n",
    "np.random.seed(4)\n",
    "arr=np.random.randint(1,10,(3,3))\n",
    "print(40*'-')\n",
    "print(arr)\n",
    "print(40*'-')\n",
    "print(arr+1)     # adding 1 to each element of array\n",
    "print(40*'-')\n",
    "print(arr-2)     # substracting 2 to each element of array\n",
    "print(40*'-')\n",
    "print(arr*3)     # multiplying by 3 to each element of array\n",
    "print(40*'-')\n",
    "print(arr/2)     # dividing by 2 to each element of array\n",
    "print(40*'-')\n",
    "print(arr//2)    # floor division by 2 to each element of array\n",
    "print(40*'-')\n",
    "print(arr**2)    # power of 2 to each element of array\n",
    "print(40*'-')"
   ]
  },
  {
   "cell_type": "code",
   "execution_count": 169,
   "id": "931181d0-874e-4973-b5a8-6af57ac6b420",
   "metadata": {},
   "outputs": [
    {
     "name": "stdout",
     "output_type": "stream",
     "text": [
      "------------------------------\n",
      "[[4 4 1]\n",
      " [8 7 2]\n",
      " [8 7 4]]\n",
      "------------------------------\n",
      "[[8 3 8]\n",
      " [9 2 3]\n",
      " [1 7 9]]\n",
      "------------------------------\n",
      "[[ 69  27  53]\n",
      " [129  52 103]\n",
      " [131  66 121]]\n",
      "------------------------------\n",
      "[[120 109  46]\n",
      " [ 76  71  25]\n",
      " [132 116  51]]\n",
      "------------------------------\n",
      "[[ 69  27  53]\n",
      " [129  52 103]\n",
      " [131  66 121]]\n",
      "------------------------------\n",
      "[[120 109  46]\n",
      " [ 76  71  25]\n",
      " [132 116  51]]\n",
      "------------------------------\n"
     ]
    }
   ],
   "source": [
    "# matrix multiplication (dot product)\n",
    "arr1=np.random.randint(1,10,(3,3))\n",
    "arr2=np.random.randint(1,10,(3,3))\n",
    "print(30*'-')\n",
    "print(arr1)\n",
    "print(30*'-')\n",
    "print(arr2)\n",
    "print(30*'-')\n",
    "print(arr1.dot(arr2))\n",
    "print(30*'-')\n",
    "print(arr2.dot(arr1))\n",
    "print(30*'-')\n",
    "\n",
    "# '@ is also used for the dot product'\n",
    "print(arr1@arr2)\n",
    "print(30*'-')\n",
    "print(arr2@arr1)\n",
    "print(30*'-')"
   ]
  },
  {
   "cell_type": "code",
   "execution_count": 118,
   "id": "3936fcf1-4389-49be-906c-d2dbcc9352eb",
   "metadata": {},
   "outputs": [
    {
     "name": "stdout",
     "output_type": "stream",
     "text": [
      "[96 55 51 90 73 58 59 89 95 80]\n",
      "[51 55 58 59 73 80 89 90 95 96]\n",
      "76.5\n"
     ]
    }
   ],
   "source": [
    "# percentile('array','out of how much') \n",
    "np.random.seed(4)\n",
    "marks=np.random.randint(50,100,10)\n",
    "print(marks)\n",
    "marks=np.sort(arr)\n",
    "print(marks)\n",
    "print(np.percentile(arr,50))"
   ]
  },
  {
   "cell_type": "code",
   "execution_count": 121,
   "id": "494f2167-7608-4cd2-9280-d284860cf7ce",
   "metadata": {},
   "outputs": [
    {
     "name": "stdout",
     "output_type": "stream",
     "text": [
      "Array:  [8 6 2 9 8 9 3 8 8 8]\n",
      "Mean:  6.9\n",
      "Mean:  5.49\n",
      "Mean:  2.3430749027719964\n"
     ]
    }
   ],
   "source": [
    "np.random.seed(4)\n",
    "arr=np.random.randint(1,10,10)\n",
    "print(\"Array: \",arr)\n",
    "print(\"Mean: \",np.mean(arr))   # mean\n",
    "print(\"Mean: \",np.var(arr))    # variance\n",
    "print(\"Mean: \",np.std(arr))    # standard deviation"
   ]
  },
  {
   "cell_type": "code",
   "execution_count": 125,
   "id": "c30947f0-ca55-4872-b5a0-ced36aa0bb54",
   "metadata": {},
   "outputs": [
    {
     "name": "stdout",
     "output_type": "stream",
     "text": [
      "[1 2 3 4 5 6 7 8 9]\n",
      "[False False False False False  True  True  True  True]\n",
      "[6 7 8 9]\n"
     ]
    }
   ],
   "source": [
    "# filtering an array\n",
    "arr=np.arange(1,10)\n",
    "print(arr)\n",
    "print(arr>5)\n",
    "print(arr[arr>5])"
   ]
  },
  {
   "cell_type": "code",
   "execution_count": 131,
   "id": "88c4d7bb-755b-44f9-8caf-f5ae7471cb88",
   "metadata": {},
   "outputs": [
    {
     "name": "stdout",
     "output_type": "stream",
     "text": [
      "[1 2 3 4 5 6 7 8 9]\n",
      "[ 1  2  3  4  5 10 10 10 10]\n"
     ]
    }
   ],
   "source": [
    "# replacing all values greater than '5' with '10'\n",
    "arr=np.arange(1,10)\n",
    "print(arr)\n",
    "arr[arr>5]=10\n",
    "print(arr)"
   ]
  },
  {
   "cell_type": "code",
   "execution_count": 137,
   "id": "bd28690e-3dda-4999-84e8-34492cb1a068",
   "metadata": {},
   "outputs": [
    {
     "name": "stdout",
     "output_type": "stream",
     "text": [
      "Original Matrix: \n",
      " [8 6 2 9 8 9 3 8 8 8]\n",
      "Transposed Matrix: \n",
      " [8 6 2 9 8 9 3 8 8 8]\n"
     ]
    }
   ],
   "source": [
    "# transpose of a matrix (arr.T)\n",
    "np.random.seed(4)\n",
    "arr=np.random.randint(1,10,10)\n",
    "print(\"Original Matrix: \\n\",arr)\n",
    "print(\"Transposed Matrix: \\n\",arr.T)"
   ]
  },
  {
   "cell_type": "code",
   "execution_count": 145,
   "id": "cb787220-96ca-43fd-bb4a-1126a4347e86",
   "metadata": {},
   "outputs": [
    {
     "name": "stdout",
     "output_type": "stream",
     "text": [
      "--------------------------------------------------\n",
      "[100 100 100   9 100   9   3 100 100 100]\n",
      "--------------------------------------------------\n",
      "['Even' 'Even' 'Even' '9' 'Even' '9' '3' 'Even' 'Even' 'Even']\n",
      "['8' '6' '2' 'Odd' '8' 'Odd' 'Odd' '8' '8' '8']\n",
      "--------------------------------------------------\n",
      "['Even' 'Even' 'Even' 'Odd' 'Even' 'Odd' 'Odd' 'Even' 'Even' 'Even']\n",
      "--------------------------------------------------\n"
     ]
    }
   ],
   "source": [
    "# where() is also a filter function which filters/replaces values according to the given condition\n",
    "# where('condition','replace with','array')\n",
    "\n",
    "np.random.seed(4)\n",
    "arr=np.random.randint(1,10,10)\n",
    "print(50*'-')\n",
    "print(np.where(arr%2==0,100,arr))    # replace all even values with 100 in the array\n",
    "print(50*'-')\n",
    "print(np.where(arr%2==0,\"Even\",arr))\n",
    "print(np.where(arr%2!=0,\"Odd\",arr))\n",
    "print(50*'-')\n",
    "arr1=np.where(arr%2==0,\"Even\",arr)\n",
    "arr1=np.where(arr%2!=0,\"Odd\",arr1)\n",
    "print(arr1)\n",
    "print(50*'-')"
   ]
  },
  {
   "cell_type": "code",
   "execution_count": 146,
   "id": "598ed7ec-72be-44aa-a614-d8acede160ed",
   "metadata": {},
   "outputs": [
    {
     "name": "stdout",
     "output_type": "stream",
     "text": [
      "------------------------------\n",
      "[[9 5 3]\n",
      " [7 5 4]\n",
      " [1 8 6]]\n",
      "------------------------------\n",
      "[[9 5 3]\n",
      " [7 5 4]\n",
      " [1 8 6]]\n",
      "------------------------------\n",
      "Merging Row Wise: \n",
      " [[9 5 3]\n",
      " [7 5 4]\n",
      " [1 8 6]\n",
      " [6 7 7]\n",
      " [9 3 6]\n",
      " [9 2 3]]\n",
      "------------------------------\n",
      "Merging Column Wise: \n",
      " [[9 5 3 6 7 7]\n",
      " [7 5 4 9 3 6]\n",
      " [1 8 6 9 2 3]]\n",
      "------------------------------\n"
     ]
    }
   ],
   "source": [
    "#merging/cancatenating arrays\n",
    "arr1=np.random.randint(1,10,(3,3))\n",
    "arr2=np.random.randint(1,10,(3,3))\n",
    "print(30*'-')\n",
    "print(arr1)\n",
    "print(30*'-')\n",
    "print(arr1)\n",
    "print(30*'-')\n",
    "print(\"Merging Row Wise: \\n\",np.concatenate((arr1,arr2),axis=0))\n",
    "print(30*'-')\n",
    "print(\"Merging Column Wise: \\n\",np.concatenate((arr1,arr2),axis=1))\n",
    "print(30*'-')"
   ]
  },
  {
   "cell_type": "code",
   "execution_count": 152,
   "id": "0e5693ad-7742-486a-bcc0-b1f8c1e755e0",
   "metadata": {},
   "outputs": [
    {
     "name": "stdout",
     "output_type": "stream",
     "text": [
      "------------------------------\n",
      "[[3 2 9]\n",
      " [9 2 4]\n",
      " [2 4 7]]\n",
      "------------------------------\n",
      "[[3 2 9]\n",
      " [9 2 4]\n",
      " [2 4 7]]\n",
      "------------------------------\n",
      "vstack ...RowWise: \n",
      "[[3 2 9]\n",
      " [9 2 4]\n",
      " [2 4 7]\n",
      " [8 5 1]\n",
      " [8 4 8]\n",
      " [7 7 4]]\n",
      "------------------------------\n",
      "hstack ...ColumnWise: \n",
      "[[3 2 9 8 5 1]\n",
      " [9 2 4 8 4 8]\n",
      " [2 4 7 7 7 4]]\n",
      "------------------------------\n"
     ]
    }
   ],
   "source": [
    "# hstack()...horizomtal stack....column wise\n",
    "# vstack()...vertical stack....row wise\n",
    "\n",
    "arr1=np.random.randint(1,10,(3,3))\n",
    "arr2=np.random.randint(1,10,(3,3))\n",
    "print(30*'-')\n",
    "print(arr1)\n",
    "print(30*'-')\n",
    "print(arr1)\n",
    "print(30*'-')\n",
    "print(\"vstack ...RowWise: \")\n",
    "print(np.vstack((arr1,arr2)))\n",
    "print(30*'-')\n",
    "print(\"hstack ...ColumnWise: \")\n",
    "print(np.hstack((arr1,arr2)))\n",
    "print(30*'-')"
   ]
  },
  {
   "cell_type": "code",
   "execution_count": 156,
   "id": "37e88efb-5fb1-44c0-b318-17e72afb164a",
   "metadata": {},
   "outputs": [
    {
     "name": "stdout",
     "output_type": "stream",
     "text": [
      "[[6 7 9 6]\n",
      " [5 5 7 3]\n",
      " [3 2 4 8]\n",
      " [5 1 6 8]]\n",
      "------------------------------\n",
      "Horizontal Split: \n",
      " [array([[6, 7],\n",
      "       [5, 5],\n",
      "       [3, 2],\n",
      "       [5, 1]]), array([[9, 6],\n",
      "       [7, 3],\n",
      "       [4, 8],\n",
      "       [6, 8]])]\n",
      "------------------------------\n",
      "Vertical Split: \n",
      " [array([[6, 7, 9, 6],\n",
      "       [5, 5, 7, 3]]), array([[3, 2, 4, 8],\n",
      "       [5, 1, 6, 8]])]\n",
      "------------------------------\n"
     ]
    }
   ],
   "source": [
    "# splitting arrays....splitting is done after concatenation\n",
    "# hsplit()...horizomtal split....column wise\n",
    "# vsplit()...vertical split....row wise\n",
    "arr=np.random.randint(1,10,(4,4))\n",
    "print(arr)\n",
    "print(30*'-')\n",
    "print(\"Horizontal Split: \\n\",np.hsplit(arr,2))   # hsplit('array','split intu how many parts')\n",
    "print(30*'-')\n",
    "print(\"Vertical Split: \\n\",np.vsplit(arr,2))     # vsplit('array','split intu how many parts')\n",
    "print(30*'-')\n"
   ]
  },
  {
   "cell_type": "code",
   "execution_count": 160,
   "id": "9abcce7b-6efe-4fd7-8c43-46ba97c7a0de",
   "metadata": {},
   "outputs": [
    {
     "ename": "SyntaxError",
     "evalue": "invalid syntax (921813986.py, line 2)",
     "output_type": "error",
     "traceback": [
      "\u001b[1;36m  Cell \u001b[1;32mIn[160], line 2\u001b[1;36m\u001b[0m\n\u001b[1;33m    <img src='gehu.jpeg'>\u001b[0m\n\u001b[1;37m    ^\u001b[0m\n\u001b[1;31mSyntaxError\u001b[0m\u001b[1;31m:\u001b[0m invalid syntax\n"
     ]
    }
   ],
   "source": [
    "# turning pictures into numpy arrays\n",
    "<img src='gehu.jpeg'>"
   ]
  },
  {
   "cell_type": "code",
   "execution_count": 166,
   "id": "511a5ed3-c7d7-4c3f-ae09-fa7e6869d729",
   "metadata": {},
   "outputs": [
    {
     "name": "stdout",
     "output_type": "stream",
     "text": [
      "------------------------------\n",
      "(192, 204, 3)\n",
      "------------------------------\n",
      "[[[255 255 255]\n",
      "  [255 255 255]\n",
      "  [255 255 255]\n",
      "  ...\n",
      "  [255 255 255]\n",
      "  [255 255 255]\n",
      "  [255 255 255]]\n",
      "\n",
      " [[255 255 255]\n",
      "  [255 255 255]\n",
      "  [255 255 255]\n",
      "  ...\n",
      "  [255 255 255]\n",
      "  [255 255 255]\n",
      "  [255 255 255]]\n",
      "\n",
      " [[255 255 255]\n",
      "  [255 255 255]\n",
      "  [255 255 255]\n",
      "  ...\n",
      "  [255 255 255]\n",
      "  [255 255 255]\n",
      "  [255 255 255]]\n",
      "\n",
      " ...\n",
      "\n",
      " [[255 255 255]\n",
      "  [255 255 255]\n",
      "  [255 255 255]\n",
      "  ...\n",
      "  [255 255 255]\n",
      "  [255 255 255]\n",
      "  [255 255 255]]\n",
      "\n",
      " [[255 255 255]\n",
      "  [255 255 255]\n",
      "  [255 255 255]\n",
      "  ...\n",
      "  [255 255 255]\n",
      "  [255 255 255]\n",
      "  [255 255 255]]\n",
      "\n",
      " [[255 255 255]\n",
      "  [255 255 255]\n",
      "  [255 255 255]\n",
      "  ...\n",
      "  [255 255 255]\n",
      "  [255 255 255]\n",
      "  [255 255 255]]]\n",
      "------------------------------\n"
     ]
    }
   ],
   "source": [
    "from matplotlib.image import imread\n",
    "img=imread('gehu.jpeg')\n",
    "print(30*'-')\n",
    "print(img.shape)\n",
    "print(30*'-')\n",
    "print(img)\n",
    "print(30*'-')"
   ]
  },
  {
   "cell_type": "code",
   "execution_count": null,
   "id": "266d54de-eb1d-49a5-a498-4e47a01e01cc",
   "metadata": {},
   "outputs": [],
   "source": []
  }
 ],
 "metadata": {
  "kernelspec": {
   "display_name": "Python 3 (ipykernel)",
   "language": "python",
   "name": "python3"
  },
  "language_info": {
   "codemirror_mode": {
    "name": "ipython",
    "version": 3
   },
   "file_extension": ".py",
   "mimetype": "text/x-python",
   "name": "python",
   "nbconvert_exporter": "python",
   "pygments_lexer": "ipython3",
   "version": "3.11.7"
  }
 },
 "nbformat": 4,
 "nbformat_minor": 5
}
